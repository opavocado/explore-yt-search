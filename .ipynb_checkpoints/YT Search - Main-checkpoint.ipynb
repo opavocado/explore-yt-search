{
 "cells": [
  {
   "cell_type": "markdown",
   "id": "49b5149c-8ab3-4b44-9816-fe5f4f91305d",
   "metadata": {},
   "source": [
    "# YT Search\n",
    "## Current Situation\n",
    "YT Search is relatively unhelpful:\n",
    "- Includes Ads\n",
    "- Includes recommended videos that are unrelated to the search\n",
    "- Provides only just a few videos that are actually related to the search\n",
    "- Difficult to find old videos\n",
    "- Almost impossible to find videos by date\n",
    "- Can't blacklist channels\n",
    "- Can't blacklist keywords\n",
    "\n",
    "## Goal\n",
    "Research and explore YT's API in order to find ways to solve these issues and enhance the search experience\n",
    "\n",
    "## Steps\n",
    "1. Read YT API Docs\n",
    "2. Run Basic Query\n",
    "3. Explore filters and parameters\n",
    "4. List which issues can be solved and how\n",
    "5. Start a backlog of ideas, features and future enhacements\n",
    "6. Fix each issue\n",
    "7. Mockup a Frontend for the tool\n",
    "8. Design the architecture for the tool\n",
    "9. Build it\n",
    "10. Deploy it in GCP/AWS\n",
    "\n",
    "## Open Questions\n",
    "- When to use video.list() and search.list()?\n",
    "    video.list() -> when videoId is known (one or multiple)\n",
    "    search.list() -> when you have a query string (like the one you use on the search bar)\n",
    "\n",
    "***\n",
    "\n"
   ]
  },
  {
   "cell_type": "markdown",
   "id": "5ff7b014-7207-40ce-8bb6-129eaea7568b",
   "metadata": {},
   "source": [
    "# Experiments\n",
    "- YTS 1 - API Exploration: Basic Search Functionality"
   ]
  }
 ],
 "metadata": {
  "kernelspec": {
   "display_name": "Python 3 (ipykernel)",
   "language": "python",
   "name": "python3"
  },
  "language_info": {
   "codemirror_mode": {
    "name": "ipython",
    "version": 3
   },
   "file_extension": ".py",
   "mimetype": "text/x-python",
   "name": "python",
   "nbconvert_exporter": "python",
   "pygments_lexer": "ipython3",
   "version": "3.10.6"
  }
 },
 "nbformat": 4,
 "nbformat_minor": 5
}
