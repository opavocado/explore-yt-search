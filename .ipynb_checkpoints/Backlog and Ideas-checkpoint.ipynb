{
 "cells": [
  {
   "cell_type": "markdown",
   "id": "81341e7e-0697-4ed3-b9fa-f93c535d5cb3",
   "metadata": {},
   "source": [
    "# Backlog and Ideas\n",
    "The objective of this notebook is to list and explore some potential features and ideas to implement to the Advanced YT Explorer\n",
    "\n",
    "## Ideas\n",
    "- Search by geo region: select area on map and look for videos in that area\n",
    "- Specify Order\n",
    "- Filter by date range: publishedAfter and publishedBefore\n",
    "- Filter by Duration\n",
    "- No KEYs required -> Consider leveraging free services like https://yt.lemnoslife.com (check SLAs)\n",
    "- Full Advanced Search: map [all available filters](https://developers.google.com/youtube/v3/docs/search/list) to UI"
   ]
  }
 ],
 "metadata": {
  "kernelspec": {
   "display_name": "Python 3 (ipykernel)",
   "language": "python",
   "name": "python3"
  },
  "language_info": {
   "codemirror_mode": {
    "name": "ipython",
    "version": 3
   },
   "file_extension": ".py",
   "mimetype": "text/x-python",
   "name": "python",
   "nbconvert_exporter": "python",
   "pygments_lexer": "ipython3",
   "version": "3.10.6"
  }
 },
 "nbformat": 4,
 "nbformat_minor": 5
}
